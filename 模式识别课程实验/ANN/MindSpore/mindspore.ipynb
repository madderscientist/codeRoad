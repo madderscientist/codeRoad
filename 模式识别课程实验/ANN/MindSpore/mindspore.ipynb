{
 "cells": [
  {
   "cell_type": "code",
   "execution_count": 1,
   "metadata": {},
   "outputs": [
    {
     "name": "stderr",
     "output_type": "stream",
     "text": [
      "[WARNING] ME(5001:139962690744960,MainProcess):2023-05-27-00:59:23.110.753 [mindspore/dataset/core/validator_helpers.py:806] 'Resize' from mindspore.dataset.vision.c_transforms is deprecated from version 1.8 and will be removed in a future version. Use 'Resize' from mindspore.dataset.vision instead.\n",
      "[WARNING] ME(5001:139962690744960,MainProcess):2023-05-27-00:59:23.112.945 [mindspore/dataset/core/validator_helpers.py:806] 'Rescale' from mindspore.dataset.vision.c_transforms is deprecated from version 1.8 and will be removed in a future version. Use 'Rescale' from mindspore.dataset.vision instead.\n",
      "[WARNING] ME(5001:139962690744960,MainProcess):2023-05-27-00:59:23.113.548 [mindspore/dataset/core/validator_helpers.py:806] 'Rescale' from mindspore.dataset.vision.c_transforms is deprecated from version 1.8 and will be removed in a future version. Use 'Rescale' from mindspore.dataset.vision instead.\n",
      "[WARNING] ME(5001:139962690744960,MainProcess):2023-05-27-00:59:23.114.170 [mindspore/dataset/core/validator_helpers.py:806] 'HWC2CHW' from mindspore.dataset.vision.c_transforms is deprecated from version 1.8 and will be removed in a future version. Use 'HWC2CHW' from mindspore.dataset.vision instead.\n",
      "[WARNING] ME(5001:139962690744960,MainProcess):2023-05-27-00:59:23.114.885 [mindspore/dataset/core/validator_helpers.py:806] 'Resize' from mindspore.dataset.vision.c_transforms is deprecated from version 1.8 and will be removed in a future version. Use 'Resize' from mindspore.dataset.vision instead.\n",
      "[WARNING] ME(5001:139962690744960,MainProcess):2023-05-27-00:59:23.115.459 [mindspore/dataset/core/validator_helpers.py:806] 'Rescale' from mindspore.dataset.vision.c_transforms is deprecated from version 1.8 and will be removed in a future version. Use 'Rescale' from mindspore.dataset.vision instead.\n",
      "[WARNING] ME(5001:139962690744960,MainProcess):2023-05-27-00:59:23.116.360 [mindspore/dataset/core/validator_helpers.py:806] 'Rescale' from mindspore.dataset.vision.c_transforms is deprecated from version 1.8 and will be removed in a future version. Use 'Rescale' from mindspore.dataset.vision instead.\n",
      "[WARNING] ME(5001:139962690744960,MainProcess):2023-05-27-00:59:23.116.852 [mindspore/dataset/core/validator_helpers.py:806] 'HWC2CHW' from mindspore.dataset.vision.c_transforms is deprecated from version 1.8 and will be removed in a future version. Use 'HWC2CHW' from mindspore.dataset.vision instead.\n"
     ]
    }
   ],
   "source": [
    "from mindvision.dataset import Mnist\n",
    "# Download and process the MNIST dataset.\n",
    "download_train = Mnist(path=\"./mnist\", split=\"train\", batch_size=32, repeat_num=1, shuffle=True, resize=32, download=True)\n",
    "download_eval = Mnist(path=\"./mnist\", split=\"test\", batch_size=32, resize=32, download=True)\n",
    "dataset_train = download_train.run()\n",
    "dataset_eval = download_eval.run()"
   ]
  },
  {
   "cell_type": "code",
   "execution_count": 2,
   "metadata": {},
   "outputs": [],
   "source": [
    "# load model lenet\n",
    "from mindvision.classification.models.backbones import LeNet5\n",
    "# from mindvision.classification.models import lenet\n",
    "network = LeNet5()"
   ]
  },
  {
   "cell_type": "code",
   "execution_count": 3,
   "metadata": {},
   "outputs": [],
   "source": [
    "import mindspore.nn as nn\n",
    "from mindspore.train import Model\n",
    "# Define the loss function.\n",
    "net_loss = nn.SoftmaxCrossEntropyWithLogits(sparse=True, reduction='mean')\n",
    "# Define the optimizer function.\n",
    "net_opt = nn.Momentum(network.trainable_params(), learning_rate=0.01, momentum=0.9)"
   ]
  },
  {
   "cell_type": "code",
   "execution_count": 4,
   "metadata": {},
   "outputs": [],
   "source": [
    "from mindspore.train.callback import ModelCheckpoint, CheckpointConfig\n",
    "# Save model\n",
    "config_ck = CheckpointConfig(save_checkpoint_steps=1875, keep_checkpoint_max=10)\n",
    "ckpoint = ModelCheckpoint(prefix=\"lenet\", directory=\"./lenet\", config=config_ck)"
   ]
  },
  {
   "cell_type": "code",
   "execution_count": 5,
   "metadata": {},
   "outputs": [
    {
     "name": "stdout",
     "output_type": "stream",
     "text": [
      "Epoch:[  0/ 10], step:[ 1875/ 1875], loss:[0.053/1.017], time:16.820 ms, lr:0.01000\n",
      "Epoch time: 17928.534 ms, per step time: 9.562 ms, avg loss: 1.017\n",
      "Epoch:[  1/ 10], step:[ 1875/ 1875], loss:[0.062/0.074], time:18.136 ms, lr:0.01000\n",
      "Epoch time: 18102.417 ms, per step time: 9.655 ms, avg loss: 0.074\n",
      "Epoch:[  2/ 10], step:[ 1875/ 1875], loss:[0.119/0.046], time:13.696 ms, lr:0.01000\n",
      "Epoch time: 18313.513 ms, per step time: 9.767 ms, avg loss: 0.046\n",
      "Epoch:[  3/ 10], step:[ 1875/ 1875], loss:[0.016/0.038], time:14.092 ms, lr:0.01000\n",
      "Epoch time: 15663.262 ms, per step time: 8.354 ms, avg loss: 0.038\n",
      "Epoch:[  4/ 10], step:[ 1875/ 1875], loss:[0.001/0.031], time:41.136 ms, lr:0.01000\n",
      "Epoch time: 16645.031 ms, per step time: 8.877 ms, avg loss: 0.031\n",
      "Epoch:[  5/ 10], step:[ 1875/ 1875], loss:[0.002/0.026], time:14.025 ms, lr:0.01000\n",
      "Epoch time: 19811.843 ms, per step time: 10.566 ms, avg loss: 0.026\n",
      "Epoch:[  6/ 10], step:[ 1875/ 1875], loss:[0.000/0.023], time:10.535 ms, lr:0.01000\n",
      "Epoch time: 12158.556 ms, per step time: 6.485 ms, avg loss: 0.023\n",
      "Epoch:[  7/ 10], step:[ 1875/ 1875], loss:[0.258/0.020], time:12.102 ms, lr:0.01000\n",
      "Epoch time: 12495.595 ms, per step time: 6.664 ms, avg loss: 0.020\n",
      "Epoch:[  8/ 10], step:[ 1875/ 1875], loss:[0.003/0.016], time:12.896 ms, lr:0.01000\n",
      "Epoch time: 14978.324 ms, per step time: 7.988 ms, avg loss: 0.016\n",
      "Epoch:[  9/ 10], step:[ 1875/ 1875], loss:[0.006/0.015], time:12.301 ms, lr:0.01000\n",
      "Epoch time: 13900.465 ms, per step time: 7.414 ms, avg loss: 0.015\n"
     ]
    }
   ],
   "source": [
    "from mindvision.engine.callback import LossMonitor\n",
    "# Ini model parameter\n",
    "model = Model(network, loss_fn=net_loss, optimizer=net_opt, metrics={'accuracy'})\n",
    "# Train the network model.\n",
    "model.train(10, dataset_train, callbacks=[ckpoint, LossMonitor(0.01, 1875)])"
   ]
  },
  {
   "cell_type": "code",
   "execution_count": 6,
   "metadata": {},
   "outputs": [
    {
     "name": "stdout",
     "output_type": "stream",
     "text": [
      "{'accuracy': 0.9902844551282052}\n"
     ]
    }
   ],
   "source": [
    "# Print accuracy\n",
    "acc = model.eval(dataset_eval)\n",
    "print(f\"{acc}\")"
   ]
  },
  {
   "cell_type": "code",
   "execution_count": 7,
   "metadata": {},
   "outputs": [
    {
     "name": "stderr",
     "output_type": "stream",
     "text": [
      "[WARNING] ME(5001:139962690744960,MainProcess):2023-05-27-01:02:28.210.974 [mindspore/train/serialization.py:736] For 'load_param_into_net', remove parameter prefix name: backbone., continue to load.\n"
     ]
    },
    {
     "data": {
      "text/plain": [
       "[]"
      ]
     },
     "execution_count": 7,
     "metadata": {},
     "output_type": "execute_result"
    }
   ],
   "source": [
    "# load model\n",
    "from mindspore import load_checkpoint, load_param_into_net\n",
    "# Load the saved model used for testing.\n",
    "param_dict = load_checkpoint(\"./lenet/lenet-1_1875.ckpt\")\n",
    "# Load parameters to the network.\n",
    "load_param_into_net(network, param_dict)"
   ]
  },
  {
   "cell_type": "code",
   "execution_count": 8,
   "metadata": {},
   "outputs": [
    {
     "name": "stderr",
     "output_type": "stream",
     "text": [
      "[WARNING] ME(5001:139962690744960,MainProcess):2023-05-27-01:02:31.893.049 [mindspore/dataset/core/validator_helpers.py:806] 'Resize' from mindspore.dataset.vision.c_transforms is deprecated from version 1.8 and will be removed in a future version. Use 'Resize' from mindspore.dataset.vision instead.\n",
      "[WARNING] ME(5001:139962690744960,MainProcess):2023-05-27-01:02:31.893.957 [mindspore/dataset/core/validator_helpers.py:806] 'Rescale' from mindspore.dataset.vision.c_transforms is deprecated from version 1.8 and will be removed in a future version. Use 'Rescale' from mindspore.dataset.vision instead.\n",
      "[WARNING] ME(5001:139962690744960,MainProcess):2023-05-27-01:02:31.894.547 [mindspore/dataset/core/validator_helpers.py:806] 'Rescale' from mindspore.dataset.vision.c_transforms is deprecated from version 1.8 and will be removed in a future version. Use 'Rescale' from mindspore.dataset.vision instead.\n",
      "[WARNING] ME(5001:139962690744960,MainProcess):2023-05-27-01:02:31.895.038 [mindspore/dataset/core/validator_helpers.py:806] 'HWC2CHW' from mindspore.dataset.vision.c_transforms is deprecated from version 1.8 and will be removed in a future version. Use 'HWC2CHW' from mindspore.dataset.vision instead.\n"
     ]
    },
    {
     "data": {
      "image/png": "[encoded data removed]",
      "text/plain": [
       "<Figure size 640x480 with 6 Axes>"
      ]
     },
     "metadata": {},
     "output_type": "display_data"
    },
    {
     "name": "stdout",
     "output_type": "stream",
     "text": [
      "Predicted: \"[3 7 6 2 0 3]\", Actual: \"[3 7 6 2 0 3]\"\n"
     ]
    }
   ],
   "source": [
    "# use model\n",
    "import numpy as np\n",
    "from mindspore import Tensor\n",
    "import matplotlib.pyplot as plt\n",
    "\n",
    "mnist = Mnist(\"./mnist\", split=\"test\", batch_size=6, resize=32)\n",
    "dataset_infer = mnist.run()\n",
    "ds_test = dataset_infer.create_dict_iterator()\n",
    "data = next(ds_test)\n",
    "images = data[\"image\"].asnumpy()\n",
    "labels = data[\"label\"].asnumpy()\n",
    "\n",
    "plt.figure()\n",
    "for i in range(1, 7):\n",
    "    plt.subplot(2, 3, i)\n",
    "    plt.imshow(images[i-1][0], interpolation=\"None\", cmap=\"gray\")\n",
    "plt.show()\n",
    "\n",
    "# Use the model.predict function to predict the classification of the image.\n",
    "output = model.predict(Tensor(data['image']))\n",
    "predicted = np.argmax(output.asnumpy(), axis=1)\n",
    "\n",
    "# Output the predicted classification and the actual classification.\n",
    "print(f'Predicted: \"{predicted}\", Actual: \"{labels}\"')"
   ]
  }
 ],
 "metadata": {
  "kernelspec": {
   "display_name": "mind",
   "language": "python",
   "name": "python3"
  },
  "language_info": {
   "codemirror_mode": {
    "name": "ipython",
    "version": 3
   },
   "file_extension": ".py",
   "mimetype": "text/x-python",
   "name": "python",
   "nbconvert_exporter": "python",
   "pygments_lexer": "ipython3",
   "version": "3.9.16"
  },
  "orig_nbformat": 4
 },
 "nbformat": 4,
 "nbformat_minor": 2
}
