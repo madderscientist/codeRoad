{
 "cells": [
  {
   "cell_type": "code",
   "execution_count": 1,
   "metadata": {},
   "outputs": [],
   "source": [
    "import gzip\n",
    "import numpy as np"
   ]
  },
  {
   "cell_type": "code",
   "execution_count": 2,
   "metadata": {},
   "outputs": [],
   "source": [
    "def load_data():    # 读取到npArray, 每维是一个28*28, 0~255取值的数组。\n",
    "    with gzip.open('../data/train-images-idx3-ubyte.gz', 'rb') as f:\n",
    "        train_images = np.frombuffer(f.read(), np.uint8, offset=16).reshape(-1, 28*28)\n",
    "    with gzip.open('../data/train-labels-idx1-ubyte.gz', 'rb') as f:\n",
    "        train_labels = np.frombuffer(f.read(), np.uint8, offset=8)\n",
    "    with gzip.open('../data/t10k-images-idx3-ubyte.gz', 'rb') as f:\n",
    "        test_images = np.frombuffer(f.read(), np.uint8, offset=16).reshape(-1, 28*28)\n",
    "    with gzip.open('../data/t10k-labels-idx1-ubyte.gz', 'rb') as f:\n",
    "        test_labels = np.frombuffer(f.read(), np.uint8, offset=8)\n",
    "    return train_images, train_labels, test_images, test_labels\n",
    "\n",
    "train_images, train_labels, test_images, test_labels = load_data()"
   ]
  },
  {
   "cell_type": "code",
   "execution_count": 3,
   "metadata": {},
   "outputs": [],
   "source": [
    "# 对图像二值化，阈值取127\n",
    "train_images = np.where(train_images > 127, 1, 0)\n",
    "test_images = np.where(test_images > 127, 1, 0)"
   ]
  },
  {
   "cell_type": "code",
   "execution_count": 4,
   "metadata": {},
   "outputs": [
    {
     "data": {
      "image/png": "[encoded data removed]",
      "text/plain": [
       "<Figure size 720x720 with 16 Axes>"
      ]
     },
     "metadata": {
      "needs_background": "light"
     },
     "output_type": "display_data"
    }
   ],
   "source": [
    "# 可视化一部分数据检验解析正确性\n",
    "import matplotlib.pyplot as plt\n",
    "fig, axs = plt.subplots(4, 4, figsize=(10, 10))\n",
    "for i in range(16):\n",
    "    axs[i//4, i%4].imshow(train_images[i].reshape(28, 28), cmap='gray')\n",
    "    axs[i//4, i%4].axis('off')\n",
    "    axs[i//4, i%4].set_title(train_labels[i])\n",
    "plt.show()"
   ]
  },
  {
   "cell_type": "code",
   "execution_count": 5,
   "metadata": {},
   "outputs": [],
   "source": [
    "# 统计每个数字的频率, pw[i]=ln(p(w_i))\n",
    "# 取对数防下溢出\n",
    "pw = [0] * 10\n",
    "for i in range(len(train_labels)):\n",
    "    pw[train_labels[i]] += 1\n",
    "for i in range(10):\n",
    "    pw[i] = np.log(pw[i]/len(train_labels))"
   ]
  },
  {
   "cell_type": "code",
   "execution_count": 6,
   "metadata": {},
   "outputs": [],
   "source": [
    "# 数据按类别归类到数组\n",
    "num_images = [[] for i in range(10)]\n",
    "for i in range(len(train_labels)):\n",
    "    num_images[train_labels[i]].append(train_images[i])"
   ]
  },
  {
   "cell_type": "code",
   "execution_count": 7,
   "metadata": {},
   "outputs": [],
   "source": [
    "# 计算每个类每个像素为白色的概率。num_images_p[i][k] = p'(x_k|w_i)【平滑过的p】\n",
    "num_images_p = []\n",
    "for i in range(10):             # 对每个类\n",
    "    w = num_images[i]\n",
    "    white_count = np.zeros(28*28, dtype = np.float32)\n",
    "    for k in range(len(w)):     # 二值化后求和即得1的个数\n",
    "        white_count += w[k]\n",
    "    w = len(w)\n",
    "    for k in range(28*28):    # 频率\n",
    "        # 之后要取对数。所以这里防止log0用拉普拉斯平滑\n",
    "        white_count[k] = (white_count[k]+1)/(w+10)\n",
    "    num_images_p.append(white_count)"
   ]
  },
  {
   "cell_type": "code",
   "execution_count": 8,
   "metadata": {},
   "outputs": [],
   "source": [
    "# 对输入的二值化28*28的图片用贝叶斯估计计算属于每个类的概率\n",
    "def likely(img):\n",
    "    likely = []                     # 属于数字i的“概率”\n",
    "    for w in range(10):             # 对每类\n",
    "        p = 0\n",
    "        nump = num_images_p[w]\n",
    "        for i in range(28*28):\n",
    "            p = p + np.log(nump[i] if img[i]==1 else (1-nump[i]))\n",
    "        likely.append(pw[w] + p)\n",
    "    return likely"
   ]
  },
  {
   "cell_type": "code",
   "execution_count": 9,
   "metadata": {},
   "outputs": [],
   "source": [
    "def test():\n",
    "    right = 0\n",
    "    error = []\n",
    "    for i in range(len(test_images)):\n",
    "        res = np.argmax(likely(test_images[i]))\n",
    "        if res==test_labels[i]:\n",
    "            right = right + 1\n",
    "        else:\n",
    "            error.append(i)\n",
    "    print(\"accuracy: \",right/len(test_labels))\n",
    "    return error"
   ]
  },
  {
   "cell_type": "code",
   "execution_count": 10,
   "metadata": {},
   "outputs": [
    {
     "name": "stdout",
     "output_type": "stream",
     "text": [
      "accuracy:  0.8426\n"
     ]
    }
   ],
   "source": [
    "errors = test() # 在测试集上统计正确率"
   ]
  },
  {
   "cell_type": "code",
   "execution_count": 11,
   "metadata": {},
   "outputs": [
    {
     "name": "stdout",
     "output_type": "stream",
     "text": [
      "result saved!\n"
     ]
    }
   ],
   "source": [
    "with open('result.csv','w',encoding='utf-8') as f:\n",
    "    f.write(\"id\\tactual\\tpredicted\\n\")\n",
    "    for i in range(len(test_images)):\n",
    "        res = np.argmax(likely(test_images[i]))\n",
    "        f.write(f\"{i}\\t{test_labels[i]}\\t{res}\\n\")\n",
    "print(\"result saved!\")"
   ]
  }
 ],
 "metadata": {
  "kernelspec": {
   "display_name": "Python 3",
   "language": "python",
   "name": "python3"
  },
  "language_info": {
   "codemirror_mode": {
    "name": "ipython",
    "version": 3
   },
   "file_extension": ".py",
   "mimetype": "text/x-python",
   "name": "python",
   "nbconvert_exporter": "python",
   "pygments_lexer": "ipython3",
   "version": "3.10.1"
  },
  "orig_nbformat": 4
 },
 "nbformat": 4,
 "nbformat_minor": 2
}
